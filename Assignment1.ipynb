{
  "cells": [
    {
      "cell_type": "markdown",
      "metadata": {
        "id": "w9ydt9vUaot_"
      },
      "source": [
        "**1. Check the given number is odd or even**"
      ]
    },
    {
      "cell_type": "code",
      "execution_count": 1,
      "metadata": {
        "colab": {
          "base_uri": "https://localhost:8080/"
        },
        "id": "Ol4nEXgwZWsY",
        "outputId": "dde6ec46-77ec-46fb-c074-3b4138543217"
      },
      "outputs": [
        {
          "name": "stdout",
          "output_type": "stream",
          "text": [
            "5 is Odd\n"
          ]
        }
      ],
      "source": [
        "def check_odd_even(num):\n",
        "    if num % 2 == 0:\n",
        "        print(f\"{num} is Even\")\n",
        "    else:\n",
        "        print(f\"{num} is Odd\")\n",
        "\n",
        "\n",
        "check_odd_even(5)"
      ]
    },
    {
      "cell_type": "markdown",
      "metadata": {
        "id": "lTIVNmTLbQ-V"
      },
      "source": [
        "**2. Count the total number of digits in a number**"
      ]
    },
    {
      "cell_type": "code",
      "execution_count": 2,
      "metadata": {
        "colab": {
          "base_uri": "https://localhost:8080/"
        },
        "id": "kMuD9GL9ZlMJ",
        "outputId": "7c4fc043-7130-4ef1-e3f6-3dd9d45d2ee1"
      },
      "outputs": [
        {
          "name": "stdout",
          "output_type": "stream",
          "text": [
            "Total digits in 12345 = 5\n"
          ]
        }
      ],
      "source": [
        "def count_digits(num):\n",
        "    count = 0\n",
        "    n = abs(num)\n",
        "    while n > 0:\n",
        "        n //= 10\n",
        "        count += 1\n",
        "    print(f\"Total digits in {num} = {count}\")\n",
        "\n",
        "\n",
        "count_digits(12345)\n"
      ]
    },
    {
      "cell_type": "markdown",
      "metadata": {},
      "source": [
        "**3. Write a Python program to print the reverse number pattern using a for loop**\n",
        "\n",
        "   **5 4 3 2 1**\n",
        "\n",
        "   **4 3 2 1**\n",
        "\n",
        "   **3 2 1**\n",
        "\n",
        "   **2 1**\n",
        "\n",
        "   **1**"
      ]
    },
    {
      "cell_type": "code",
      "execution_count": null,
      "metadata": {
        "colab": {
          "base_uri": "https://localhost:8080/"
        },
        "id": "gHkTbgXOZxQv",
        "outputId": "3e79206e-46a5-4f89-d4eb-8712a1edb933"
      },
      "outputs": [
        {
          "name": "stdout",
          "output_type": "stream",
          "text": [
            "5 4 3 2 1 \n",
            "4 3 2 1 \n",
            "3 2 1 \n",
            "2 1 \n",
            "1 \n"
          ]
        }
      ],
      "source": [
        "def reverse_number_pattern(n):\n",
        "    for i in range(n, 0, -1):\n",
        "        for j in range(i, 0, -1):\n",
        "            print(j, end=' ')\n",
        "        print()\n",
        "\n",
        "\n",
        "reverse_number_pattern(5)\n"
      ]
    },
    {
      "cell_type": "markdown",
      "metadata": {
        "id": "40J8FHI7bsjI"
      },
      "source": [
        "**4. Print all prime numbers within a range**"
      ]
    },
    {
      "cell_type": "code",
      "execution_count": 6,
      "metadata": {
        "colab": {
          "base_uri": "https://localhost:8080/"
        },
        "id": "SWPPDAnoZzxN",
        "outputId": "8496ded4-9e8f-40a0-85fb-2ccda07d7856"
      },
      "outputs": [
        {
          "name": "stdout",
          "output_type": "stream",
          "text": [
            "Prime numbers between 10 and 30:\n",
            "11 13 17 19 23 29 \n"
          ]
        }
      ],
      "source": [
        "def is_prime(num):\n",
        "    if num <= 1:\n",
        "        return False\n",
        "    for i in range(2, int(num**0.5)+1):\n",
        "        if num % i == 0:\n",
        "            return False\n",
        "    return True\n",
        "\n",
        "def primes_in_range(start, end):\n",
        "    print(f\"Prime numbers between {start} and {end}:\")\n",
        "    for num in range(start, end+1):\n",
        "        if is_prime(num):\n",
        "            print(num, end=' ')\n",
        "    print()\n",
        "\n",
        "\n",
        "primes_in_range(10, 30)\n"
      ]
    },
    {
      "cell_type": "markdown",
      "metadata": {
        "id": "zmIKfHq9bwxV"
      },
      "source": [
        "**5. Find the factorial of a given number**"
      ]
    },
    {
      "cell_type": "code",
      "execution_count": 5,
      "metadata": {
        "colab": {
          "base_uri": "https://localhost:8080/"
        },
        "id": "wtA2ox4EZ3O3",
        "outputId": "b52806a6-4dc0-4bb6-ff84-9f1531b49bce"
      },
      "outputs": [
        {
          "name": "stdout",
          "output_type": "stream",
          "text": [
            "Factorial of 5 = 120\n"
          ]
        }
      ],
      "source": [
        "def factorial(n):\n",
        "    result = 1\n",
        "    for i in range(2, n+1):\n",
        "        result *= i\n",
        "    print(f\"Factorial of {n} = {result}\")\n",
        "\n",
        "\n",
        "factorial(5)\n"
      ]
    },
    {
      "cell_type": "markdown",
      "metadata": {
        "id": "pwjrIqtib0-J"
      },
      "source": [
        "**6. Program to check if number is palindrome**\n"
      ]
    },
    {
      "cell_type": "code",
      "execution_count": 4,
      "metadata": {
        "colab": {
          "base_uri": "https://localhost:8080/"
        },
        "id": "TJqxrn4NZ7IA",
        "outputId": "bec6d713-c99f-40d5-c4b1-5e23b704bfce"
      },
      "outputs": [
        {
          "name": "stdout",
          "output_type": "stream",
          "text": [
            "121 is a Palindrome\n"
          ]
        }
      ],
      "source": [
        "def is_palindrome(num):\n",
        "    if str(num) == str(num)[::-1]:\n",
        "        print(f\"{num} is a Palindrome\")\n",
        "    else:\n",
        "        print(f\"{num} is not a Palindrome\")\n",
        "\n",
        "\n",
        "is_palindrome(121)\n"
      ]
    },
    {
      "cell_type": "markdown",
      "metadata": {
        "id": "QgSd2QROb3zy"
      },
      "source": [
        "**7. Program to Check Armstrong Number**"
      ]
    },
    {
      "cell_type": "code",
      "execution_count": 12,
      "metadata": {
        "colab": {
          "base_uri": "https://localhost:8080/"
        },
        "id": "Vk8hjTcPaAM7",
        "outputId": "36812c39-0a6b-4edd-fe6e-bb4de2fc5ad8"
      },
      "outputs": [
        {
          "name": "stdout",
          "output_type": "stream",
          "text": [
            "153 is an Armstrong number\n"
          ]
        }
      ],
      "source": [
        "def is_armstrong(num):\n",
        "    digits = list(map(int, str(num)))\n",
        "    power = len(digits)\n",
        "    total = sum(d ** power for d in digits)\n",
        "    if total == num:\n",
        "        print(f\"{num} is an Armstrong number\")\n",
        "    else:\n",
        "        print(f\"{num} is not an Armstrong number\")\n",
        "\n",
        "\n",
        "is_armstrong(153)\n"
      ]
    },
    {
      "cell_type": "markdown",
      "metadata": {
        "id": "bGX_H_aZb9UN"
      },
      "source": [
        "**8. Find Maximum of three numbers**"
      ]
    },
    {
      "cell_type": "code",
      "execution_count": 11,
      "metadata": {
        "colab": {
          "base_uri": "https://localhost:8080/"
        },
        "id": "pGkhebL9aULw",
        "outputId": "0b34040b-980f-4adf-f02c-39d75ab8da6f"
      },
      "outputs": [
        {
          "name": "stdout",
          "output_type": "stream",
          "text": [
            "Maximum among 10, 25, and 15 is 25\n"
          ]
        }
      ],
      "source": [
        "def max_of_three(a, b, c):\n",
        "    maximum = max(a, b, c)\n",
        "    print(f\"Maximum among {a}, {b}, and {c} is {maximum}\")\n",
        "\n",
        "\n",
        "max_of_three(10, 25, 15)\n"
      ]
    },
    {
      "cell_type": "markdown",
      "metadata": {
        "id": "0iwnlcw7b-xk"
      },
      "source": [
        "**9. Find the Sum of digits**"
      ]
    },
    {
      "cell_type": "code",
      "execution_count": 10,
      "metadata": {
        "colab": {
          "base_uri": "https://localhost:8080/"
        },
        "id": "M40l8eu_aWSW",
        "outputId": "f71544de-b738-4f65-922d-136fc245554e"
      },
      "outputs": [
        {
          "name": "stdout",
          "output_type": "stream",
          "text": [
            "Sum of digits in 1234 = 10\n"
          ]
        }
      ],
      "source": [
        "def sum_of_digits(num):\n",
        "    total = sum(int(d) for d in str(abs(num)))\n",
        "    print(f\"Sum of digits in {num} = {total}\")\n",
        "\n",
        "\n",
        "sum_of_digits(1234)\n"
      ]
    },
    {
      "cell_type": "markdown",
      "metadata": {
        "id": "2MUadQpvcEDN"
      },
      "source": [
        "**10. Python Program to Print the Natural Numbers Summation Pattern**\n",
        "\n",
        " **Given a natural number n, the task is to write a Python program to first find the sum of first n**\n",
        " **natural numbers and then print each step as a pattern.**\n",
        "\n",
        " **Input: 5**\n",
        "\n",
        " **Output:**\n",
        "\n",
        " **1 = 1**\n",
        "\n",
        " **1 + 2 = 3**\n",
        "\n",
        " **1 + 2 + 3 = 6**\n",
        "\n",
        " **1 + 2 + 3 + 4 = 10**\n",
        "\n",
        " **1 + 2 + 3 + 4 + 5 = 15**"
      ]
    },
    {
      "cell_type": "code",
      "execution_count": 9,
      "metadata": {
        "colab": {
          "base_uri": "https://localhost:8080/"
        },
        "id": "Atw0ojfsaYr1",
        "outputId": "51a27c07-87d4-4e71-f05c-d822402f74d5"
      },
      "outputs": [
        {
          "name": "stdout",
          "output_type": "stream",
          "text": [
            "1 = 1\n",
            "1 + 2 = 3\n",
            "1 + 2 + 3 = 6\n",
            "1 + 2 + 3 + 4 = 10\n",
            "1 + 2 + 3 + 4 + 5 = 15\n"
          ]
        }
      ],
      "source": [
        "def natural_sum_pattern(n):\n",
        "    total = 0\n",
        "    for i in range(1, n+1):\n",
        "        total += i\n",
        "        print(\" + \".join(str(x) for x in range(1, i+1)), \"=\", total)\n",
        "\n",
        "\n",
        "natural_sum_pattern(5)\n"
      ]
    }
  ],
  "metadata": {
    "colab": {
      "provenance": []
    },
    "kernelspec": {
      "display_name": "Python 3",
      "name": "python3"
    },
    "language_info": {
      "name": "python"
    }
  },
  "nbformat": 4,
  "nbformat_minor": 0
}
