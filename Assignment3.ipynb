{
  "cells": [
    {
      "cell_type": "markdown",
      "metadata": {
        "id": "-DJuJ8JskJ_q"
      },
      "source": [
        "# **Basic Set Programs**"
      ]
    },
    {
      "cell_type": "markdown",
      "metadata": {
        "id": "QNEqtBy-kXFG"
      },
      "source": [
        "**1. Create a set and display its elements**"
      ]
    },
    {
      "cell_type": "code",
      "execution_count": 1,
      "metadata": {
        "colab": {
          "base_uri": "https://localhost:8080/"
        },
        "id": "p_r0tsgLgAjW",
        "outputId": "7c6159c7-c376-4aed-be62-f1bf19c4ab5d"
      },
      "outputs": [
        {
          "name": "stdout",
          "output_type": "stream",
          "text": [
            "Set elements: {'cherry', 'banana', 'apple'}\n"
          ]
        }
      ],
      "source": [
        "def create_display_set():\n",
        "    s = {\"apple\", \"banana\", \"cherry\"}\n",
        "    print(\"Set elements:\", s)\n",
        "\n",
        "create_display_set()\n"
      ]
    },
    {
      "cell_type": "markdown",
      "metadata": {
        "id": "wdc1q1cRka73"
      },
      "source": [
        "**2. Add an element to a set**"
      ]
    },
    {
      "cell_type": "code",
      "execution_count": 2,
      "metadata": {
        "colab": {
          "base_uri": "https://localhost:8080/"
        },
        "id": "Z5cSU1NBgQFZ",
        "outputId": "44b0588b-077b-45d7-be22-c2bf0a17eb53"
      },
      "outputs": [
        {
          "name": "stdout",
          "output_type": "stream",
          "text": [
            "After adding 4: {1, 2, 3, 4}\n"
          ]
        }
      ],
      "source": [
        "def add_element():\n",
        "    s = {1, 2, 3}\n",
        "    s.add(4)\n",
        "    print(\"After adding 4:\", s)\n",
        "\n",
        "add_element()\n"
      ]
    },
    {
      "cell_type": "markdown",
      "metadata": {
        "id": "wX6gR9TqkeHu"
      },
      "source": [
        "**3. Remove an element from a set**\n"
      ]
    },
    {
      "cell_type": "code",
      "execution_count": 3,
      "metadata": {
        "colab": {
          "base_uri": "https://localhost:8080/"
        },
        "id": "t8PPNNGogR4O",
        "outputId": "f7735fa5-b99e-43e2-c205-52461127e6cc"
      },
      "outputs": [
        {
          "name": "stdout",
          "output_type": "stream",
          "text": [
            "After removing 2: {1, 3}\n"
          ]
        }
      ],
      "source": [
        "def remove_element():\n",
        "    s = {1, 2, 3}\n",
        "    s.remove(2)\n",
        "    print(\"After removing 2:\", s)\n",
        "\n",
        "remove_element()\n"
      ]
    },
    {
      "cell_type": "markdown",
      "metadata": {
        "id": "hAV1TBzWkgbY"
      },
      "source": [
        "**4. Clear all elements from a set**"
      ]
    },
    {
      "cell_type": "code",
      "execution_count": 4,
      "metadata": {
        "colab": {
          "base_uri": "https://localhost:8080/"
        },
        "id": "VCUAMoBdgU1B",
        "outputId": "37d359ed-00a3-413e-8971-c870d28fd2a0"
      },
      "outputs": [
        {
          "name": "stdout",
          "output_type": "stream",
          "text": [
            "After clearing: set()\n"
          ]
        }
      ],
      "source": [
        "def clear_set():\n",
        "    s = {10, 20, 30}\n",
        "    s.clear()\n",
        "    print(\"After clearing:\", s)\n",
        "\n",
        "clear_set()\n"
      ]
    },
    {
      "cell_type": "markdown",
      "metadata": {
        "id": "aPhdLqXWkjFj"
      },
      "source": [
        "**5. Copy a set to another set**"
      ]
    },
    {
      "cell_type": "code",
      "execution_count": 5,
      "metadata": {
        "colab": {
          "base_uri": "https://localhost:8080/"
        },
        "id": "zYfZ_bdWgW_p",
        "outputId": "b1f56e83-2e85-464f-faaf-7db8059e4af3"
      },
      "outputs": [
        {
          "name": "stdout",
          "output_type": "stream",
          "text": [
            "Original: {'C', 'B', 'A'}\n",
            "Copy: {'C', 'B', 'A'}\n"
          ]
        }
      ],
      "source": [
        "def copy_set():\n",
        "    original = {\"A\", \"B\", \"C\"}\n",
        "    copy = original.copy()\n",
        "    print(\"Original:\", original)\n",
        "    print(\"Copy:\", copy)\n",
        "\n",
        "copy_set()\n"
      ]
    },
    {
      "cell_type": "markdown",
      "metadata": {
        "id": "t9gxogeWkmgK"
      },
      "source": [
        "**6. Check if an element exists in a set**"
      ]
    },
    {
      "cell_type": "code",
      "execution_count": 6,
      "metadata": {
        "colab": {
          "base_uri": "https://localhost:8080/"
        },
        "id": "o7cYsC6ZgiYi",
        "outputId": "d52207a1-6058-4942-9869-f69ff86c4165"
      },
      "outputs": [
        {
          "name": "stdout",
          "output_type": "stream",
          "text": [
            "Is 'blue' in set? True\n"
          ]
        }
      ],
      "source": [
        "def check_element():\n",
        "    s = {\"red\", \"blue\", \"green\"}\n",
        "    print(\"Is 'blue' in set?\", \"blue\" in s)\n",
        "\n",
        "check_element()\n"
      ]
    },
    {
      "cell_type": "markdown",
      "metadata": {
        "id": "thq_fO1-kqzJ"
      },
      "source": [
        "**7. Find the length of a set**"
      ]
    },
    {
      "cell_type": "code",
      "execution_count": 7,
      "metadata": {
        "colab": {
          "base_uri": "https://localhost:8080/"
        },
        "id": "AkMNqv2KgjHF",
        "outputId": "f039da26-488b-4d8c-bafd-b0af3d0a7c9a"
      },
      "outputs": [
        {
          "name": "stdout",
          "output_type": "stream",
          "text": [
            "Length of set: 3\n"
          ]
        }
      ],
      "source": [
        "def set_length():\n",
        "    s = {100, 200, 300}\n",
        "    print(\"Length of set:\", len(s))\n",
        "\n",
        "set_length()\n"
      ]
    },
    {
      "cell_type": "markdown",
      "metadata": {
        "id": "bUKAk7mWku1J"
      },
      "source": [
        "**8. Iterate through a set using a loop**"
      ]
    },
    {
      "cell_type": "code",
      "execution_count": 8,
      "metadata": {
        "colab": {
          "base_uri": "https://localhost:8080/"
        },
        "id": "1wHj5eUUgoFr",
        "outputId": "226d06ef-ef8f-4c48-fcc4-54e174dd0ea4"
      },
      "outputs": [
        {
          "name": "stdout",
          "output_type": "stream",
          "text": [
            "Set items:\n",
            "banana\n",
            "grape\n",
            "apple\n"
          ]
        }
      ],
      "source": [
        "def iterate_set():\n",
        "    s = {\"apple\", \"banana\", \"grape\"}\n",
        "    print(\"Set items:\")\n",
        "    for item in s:\n",
        "        print(item)\n",
        "\n",
        "iterate_set()\n"
      ]
    },
    {
      "cell_type": "markdown",
      "metadata": {
        "id": "_yjHn3ALkwF_"
      },
      "source": [
        "# **Set Operations**"
      ]
    },
    {
      "cell_type": "markdown",
      "metadata": {
        "id": "IQmHQkVWk1b_"
      },
      "source": [
        "**9. Find the union of two sets**"
      ]
    },
    {
      "cell_type": "code",
      "execution_count": 9,
      "metadata": {
        "colab": {
          "base_uri": "https://localhost:8080/"
        },
        "id": "Dj8SmVHIgrVf",
        "outputId": "b2caba4d-aa4d-4503-978e-eb3913ac14dc"
      },
      "outputs": [
        {
          "name": "stdout",
          "output_type": "stream",
          "text": [
            "Union: {1, 2, 3, 4, 5}\n"
          ]
        }
      ],
      "source": [
        "def set_union():\n",
        "    a = {1, 2, 3}\n",
        "    b = {3, 4, 5}\n",
        "    print(\"Union:\", a | b)\n",
        "\n",
        "set_union()\n"
      ]
    },
    {
      "cell_type": "markdown",
      "metadata": {
        "id": "rfIHZB5mk4av"
      },
      "source": [
        "**10. Find the intersection of two sets**"
      ]
    },
    {
      "cell_type": "code",
      "execution_count": 10,
      "metadata": {
        "colab": {
          "base_uri": "https://localhost:8080/"
        },
        "id": "szSujsFVguk2",
        "outputId": "a257425b-1498-41f0-a1c2-fb0b6f950557"
      },
      "outputs": [
        {
          "name": "stdout",
          "output_type": "stream",
          "text": [
            "Intersection: {2, 3}\n"
          ]
        }
      ],
      "source": [
        "def set_intersection():\n",
        "    a = {1, 2, 3}\n",
        "    b = {2, 3, 4}\n",
        "    print(\"Intersection:\", a & b)\n",
        "\n",
        "set_intersection()\n"
      ]
    },
    {
      "cell_type": "markdown",
      "metadata": {
        "id": "k-_D7wzBk9-f"
      },
      "source": [
        "**11. Find the difference between two sets**"
      ]
    },
    {
      "cell_type": "code",
      "execution_count": 11,
      "metadata": {
        "colab": {
          "base_uri": "https://localhost:8080/"
        },
        "id": "WfdK3Cz8gyJ_",
        "outputId": "54b9a7bb-0e2f-4338-9982-8739b73b486e"
      },
      "outputs": [
        {
          "name": "stdout",
          "output_type": "stream",
          "text": [
            "Difference (a - b): {1, 3}\n"
          ]
        }
      ],
      "source": [
        "def set_difference():\n",
        "    a = {1, 2, 3}\n",
        "    b = {2, 4}\n",
        "    print(\"Difference (a - b):\", a - b)\n",
        "\n",
        "set_difference()\n"
      ]
    },
    {
      "cell_type": "markdown",
      "metadata": {
        "id": "vpuP0B-Xk_9e"
      },
      "source": [
        "**12. Find the symmetric difference between two sets**"
      ]
    },
    {
      "cell_type": "code",
      "execution_count": 12,
      "metadata": {
        "colab": {
          "base_uri": "https://localhost:8080/"
        },
        "id": "Lugdtjtag6gL",
        "outputId": "2ab83fce-6803-46cb-9deb-cbfeb72f2a5f"
      },
      "outputs": [
        {
          "name": "stdout",
          "output_type": "stream",
          "text": [
            "Symmetric Difference: {1, 4}\n"
          ]
        }
      ],
      "source": [
        "def set_symmetric_difference():\n",
        "    a = {1, 2, 3}\n",
        "    b = {2, 3, 4}\n",
        "    print(\"Symmetric Difference:\", a ^ b)\n",
        "\n",
        "set_symmetric_difference()\n"
      ]
    },
    {
      "cell_type": "markdown",
      "metadata": {
        "id": "4W5mF2halCie"
      },
      "source": [
        "**13. Check if one set is a subset of another**"
      ]
    },
    {
      "cell_type": "code",
      "execution_count": 13,
      "metadata": {
        "colab": {
          "base_uri": "https://localhost:8080/"
        },
        "id": "CSINfpWsg9xY",
        "outputId": "d9728f60-ea06-4430-b53b-817bd36b4de3"
      },
      "outputs": [
        {
          "name": "stdout",
          "output_type": "stream",
          "text": [
            "Is a subset of b? True\n"
          ]
        }
      ],
      "source": [
        "def is_subset():\n",
        "    a = {1, 2}\n",
        "    b = {1, 2, 3, 4}\n",
        "    print(\"Is a subset of b?\", a.issubset(b))\n",
        "\n",
        "is_subset()\n"
      ]
    },
    {
      "cell_type": "markdown",
      "metadata": {
        "id": "HZL6Ho_1lGAn"
      },
      "source": [
        "**14. Check if one set is a superset of another**"
      ]
    },
    {
      "cell_type": "code",
      "execution_count": 14,
      "metadata": {
        "colab": {
          "base_uri": "https://localhost:8080/"
        },
        "id": "qOBOMIKLg_uN",
        "outputId": "f48e310f-8053-4f6b-e071-4b45cfbe3de1"
      },
      "outputs": [
        {
          "name": "stdout",
          "output_type": "stream",
          "text": [
            "Is a superset of b? True\n"
          ]
        }
      ],
      "source": [
        "def is_superset():\n",
        "    a = {1, 2, 3, 4}\n",
        "    b = {2, 3}\n",
        "    print(\"Is a superset of b?\", a.issuperset(b))\n",
        "\n",
        "is_superset()\n"
      ]
    },
    {
      "cell_type": "markdown",
      "metadata": {
        "id": "V9dicZxalI26"
      },
      "source": [
        "**15. Check if two sets are disjoint**"
      ]
    },
    {
      "cell_type": "code",
      "execution_count": 15,
      "metadata": {
        "colab": {
          "base_uri": "https://localhost:8080/"
        },
        "id": "ycj-Po__hCab",
        "outputId": "9734e60c-4ff9-4ed2-f056-18e68bedec07"
      },
      "outputs": [
        {
          "name": "stdout",
          "output_type": "stream",
          "text": [
            "Are disjoint sets? True\n"
          ]
        }
      ],
      "source": [
        "def is_disjoint():\n",
        "    a = {1, 2}\n",
        "    b = {3, 4}\n",
        "    print(\"Are disjoint sets?\", a.isdisjoint(b))\n",
        "\n",
        "is_disjoint()\n"
      ]
    },
    {
      "cell_type": "markdown",
      "metadata": {
        "id": "ZlYy2LjUlNIu"
      },
      "source": [
        "# **Set Applications**"
      ]
    },
    {
      "cell_type": "markdown",
      "metadata": {
        "id": "3A9G8M-ZlT7_"
      },
      "source": [
        "**16. Remove duplicates from a list using a set**"
      ]
    },
    {
      "cell_type": "code",
      "execution_count": 16,
      "metadata": {
        "colab": {
          "base_uri": "https://localhost:8080/"
        },
        "id": "EG-_7SzEhFGq",
        "outputId": "a56588d2-2033-4f89-f6e2-0b7a9519a34e"
      },
      "outputs": [
        {
          "name": "stdout",
          "output_type": "stream",
          "text": [
            "List without duplicates: {1, 2, 3, 4, 5}\n"
          ]
        }
      ],
      "source": [
        "def remove_duplicates():\n",
        "    lst = [1, 2, 2, 3, 4, 4, 5]\n",
        "    unique = set(lst)\n",
        "    print(\"List without duplicates:\", unique)\n",
        "\n",
        "remove_duplicates()\n"
      ]
    },
    {
      "cell_type": "markdown",
      "metadata": {
        "id": "K15rWdjWlW_q"
      },
      "source": [
        "**17. Convert a list to a set and back to a list**"
      ]
    },
    {
      "cell_type": "code",
      "execution_count": 17,
      "metadata": {
        "colab": {
          "base_uri": "https://localhost:8080/"
        },
        "id": "1cyT40IxhKNM",
        "outputId": "51dd7cfa-09ce-499b-d507-338436f3702d"
      },
      "outputs": [
        {
          "name": "stdout",
          "output_type": "stream",
          "text": [
            "Original List: [1, 2, 2, 3]\n",
            "Converted back List: [1, 2, 3]\n"
          ]
        }
      ],
      "source": [
        "def list_to_set_back():\n",
        "    lst = [1, 2, 2, 3]\n",
        "    s = set(lst)\n",
        "    new_list = list(s)\n",
        "    print(\"Original List:\", lst)\n",
        "    print(\"Converted back List:\", new_list)\n",
        "\n",
        "list_to_set_back()\n"
      ]
    },
    {
      "cell_type": "markdown",
      "metadata": {
        "id": "y5cSbJsRlbDo"
      },
      "source": [
        "**18. Find common elements in two lists using sets**"
      ]
    },
    {
      "cell_type": "code",
      "execution_count": 18,
      "metadata": {
        "colab": {
          "base_uri": "https://localhost:8080/"
        },
        "id": "bxZr7xDbhL5X",
        "outputId": "d240b75e-b70e-457f-c665-5d7649f07a5e"
      },
      "outputs": [
        {
          "name": "stdout",
          "output_type": "stream",
          "text": [
            "Common Elements: {2, 3}\n"
          ]
        }
      ],
      "source": [
        "def common_elements():\n",
        "    list1 = [1, 2, 3]\n",
        "    list2 = [2, 3, 4]\n",
        "    common = set(list1) & set(list2)\n",
        "    print(\"Common Elements:\", common)\n",
        "\n",
        "common_elements()\n"
      ]
    },
    {
      "cell_type": "markdown",
      "metadata": {
        "id": "aGVSPA5Dldmz"
      },
      "source": [
        "**19. Get elements in one list but not in another using sets**"
      ]
    },
    {
      "cell_type": "code",
      "execution_count": 19,
      "metadata": {
        "colab": {
          "base_uri": "https://localhost:8080/"
        },
        "id": "5WylxcFhhN6J",
        "outputId": "d13a2ad5-8cdc-4e1d-fd10-83c885a8198d"
      },
      "outputs": [
        {
          "name": "stdout",
          "output_type": "stream",
          "text": [
            "Only in list1: {1, 3, 5}\n"
          ]
        }
      ],
      "source": [
        "def list_diff():\n",
        "    list1 = [1, 2, 3, 5]\n",
        "    list2 = [2, 4]\n",
        "    diff = set(list1) - set(list2)\n",
        "    print(\"Only in list1:\", diff)\n",
        "\n",
        "list_diff()\n"
      ]
    },
    {
      "cell_type": "markdown",
      "metadata": {
        "id": "raxHM69Zlfjy"
      },
      "source": [
        "**20. Use set comprehension to generate a set (e.g., squares or primes)**"
      ]
    },
    {
      "cell_type": "code",
      "execution_count": 20,
      "metadata": {
        "colab": {
          "base_uri": "https://localhost:8080/"
        },
        "id": "YLun6lF-hPs0",
        "outputId": "489d04bd-7f46-45c5-9d57-cb385a74240c"
      },
      "outputs": [
        {
          "name": "stdout",
          "output_type": "stream",
          "text": [
            "Set of squares: {1, 4, 9, 16, 25}\n"
          ]
        }
      ],
      "source": [
        "def set_comprehension():\n",
        "    squares = {x**2 for x in range(1, 6)}\n",
        "    print(\"Set of squares:\", squares)\n",
        "\n",
        "set_comprehension()\n"
      ]
    },
    {
      "cell_type": "markdown",
      "metadata": {
        "id": "shopNj-Ulj3u"
      },
      "source": [
        "# **Frozen Set Programs**"
      ]
    },
    {
      "cell_type": "markdown",
      "metadata": {
        "id": "2DCFt3VHlopi"
      },
      "source": [
        "**21. Create and print a frozenset**"
      ]
    },
    {
      "cell_type": "code",
      "execution_count": 21,
      "metadata": {
        "colab": {
          "base_uri": "https://localhost:8080/"
        },
        "id": "ipOyYQ6BhTLM",
        "outputId": "97b4f860-5dd9-4783-af0c-f5579858daac"
      },
      "outputs": [
        {
          "name": "stdout",
          "output_type": "stream",
          "text": [
            "FrozenSet: frozenset({'cherry', 'banana', 'apple'})\n"
          ]
        }
      ],
      "source": [
        "def frozen_set_example():\n",
        "    fs = frozenset([\"apple\", \"banana\", \"cherry\"])\n",
        "    print(\"FrozenSet:\", fs)\n",
        "\n",
        "frozen_set_example()\n"
      ]
    }
  ],
  "metadata": {
    "colab": {
      "provenance": []
    },
    "kernelspec": {
      "display_name": "Python 3",
      "name": "python3"
    },
    "language_info": {
      "name": "python"
    }
  },
  "nbformat": 4,
  "nbformat_minor": 0
}
