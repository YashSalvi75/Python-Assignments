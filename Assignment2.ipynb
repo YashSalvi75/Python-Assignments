{
  "cells": [
    {
      "cell_type": "markdown",
      "metadata": {
        "id": "Km_cPLtfhlOQ"
      },
      "source": [
        "**1) Store and display student information (name, age, grade).**"
      ]
    },
    {
      "cell_type": "code",
      "execution_count": 1,
      "metadata": {
        "colab": {
          "base_uri": "https://localhost:8080/"
        },
        "id": "xTGqgBmFexfU",
        "outputId": "5978e0a7-9d49-4880-f55b-1d03580147c5"
      },
      "outputs": [
        {
          "name": "stdout",
          "output_type": "stream",
          "text": [
            "Name: Amit, Age: 17, Grade: A\n"
          ]
        }
      ],
      "source": [
        "def student_info():\n",
        "    student = (\"Amit\", 17, \"A\")\n",
        "    print(f\"Name: {student[0]}, Age: {student[1]}, Grade: {student[2]}\")\n",
        "\n",
        "student_info()\n"
      ]
    },
    {
      "cell_type": "markdown",
      "metadata": {
        "id": "UIDKNQFihmgx"
      },
      "source": [
        "**2) List prices of grocery items and total them.**"
      ]
    },
    {
      "cell_type": "code",
      "execution_count": 2,
      "metadata": {
        "colab": {
          "base_uri": "https://localhost:8080/"
        },
        "id": "-dlK8d2wfD_F",
        "outputId": "21de44c4-b733-4f37-d558-4c7c2794937a"
      },
      "outputs": [
        {
          "name": "stdout",
          "output_type": "stream",
          "text": [
            "Grocery Prices: (20, 35, 15, 40)\n",
            "Total Price: 110\n"
          ]
        }
      ],
      "source": [
        "def grocery_total():\n",
        "    prices = (20, 35, 15, 40)\n",
        "    print(\"Grocery Prices:\", prices)\n",
        "    print(\"Total Price:\", sum(prices))\n",
        "\n",
        "grocery_total()\n"
      ]
    },
    {
      "cell_type": "markdown",
      "metadata": {
        "id": "EFncyeushpFG"
      },
      "source": [
        "**3) Pair items with prices using tuples.**\n",
        "\n",
        "   **(&quot;Milk&quot;, 25), (&quot;Eggs&quot;, 50), (&quot;Bread&quot;, 20)**"
      ]
    },
    {
      "cell_type": "code",
      "execution_count": 3,
      "metadata": {
        "colab": {
          "base_uri": "https://localhost:8080/"
        },
        "id": "UpiRAwx1e52c",
        "outputId": "229a656d-ae5e-4d62-defc-685002bd9c3e"
      },
      "outputs": [
        {
          "name": "stdout",
          "output_type": "stream",
          "text": [
            "Milk: ₹25\n",
            "Eggs: ₹50\n",
            "Bread: ₹20\n"
          ]
        }
      ],
      "source": [
        "def item_prices():\n",
        "    items = ((\"Milk\", 25), (\"Eggs\", 50), (\"Bread\", 20))\n",
        "    for item in items:\n",
        "        print(f\"{item[0]}: ₹{item[1]}\")\n",
        "\n",
        "item_prices()\n"
      ]
    },
    {
      "cell_type": "markdown",
      "metadata": {
        "id": "RIc7luZsiC9e"
      },
      "source": [
        "**4) Store and display train schedule as tuples.**\n",
        "\n",
        "   **(&quot;Rajdhani&quot;, &quot;10:00&quot;), (&quot;Shatabdi&quot;, &quot;12:30&quot;), (&quot;Duronto&quot;, &quot;17:00&quot;)**"
      ]
    },
    {
      "cell_type": "code",
      "execution_count": 4,
      "metadata": {
        "colab": {
          "base_uri": "https://localhost:8080/"
        },
        "id": "Jg9QBUYNe7b_",
        "outputId": "fccb8240-4f9d-4a2e-ae0b-4952af7af681"
      },
      "outputs": [
        {
          "name": "stdout",
          "output_type": "stream",
          "text": [
            "Train: Rajdhani, Time: 10:00\n",
            "Train: Shatabdi, Time: 12:30\n",
            "Train: Duronto, Time: 17:00\n"
          ]
        }
      ],
      "source": [
        "def train_schedule():\n",
        "    schedule = ((\"Rajdhani\", \"10:00\"), (\"Shatabdi\", \"12:30\"), (\"Duronto\", \"17:00\"))\n",
        "    for train in schedule:\n",
        "        print(f\"Train: {train[0]}, Time: {train[1]}\")\n",
        "\n",
        "train_schedule()\n"
      ]
    },
    {
      "cell_type": "markdown",
      "metadata": {
        "id": "JTZEXK2-iLVA"
      },
      "source": [
        "**5) Sort employee records by salary.**\n",
        "\n",
        "**(&quot;John&quot;, 40000), (&quot;Alice&quot;, 55000), (&quot;Raj&quot;, 30000)**"
      ]
    },
    {
      "cell_type": "code",
      "execution_count": 5,
      "metadata": {
        "colab": {
          "base_uri": "https://localhost:8080/"
        },
        "id": "03ePAogNe84f",
        "outputId": "fcb2a6a8-d305-4976-bcd6-c9991b067b8e"
      },
      "outputs": [
        {
          "name": "stdout",
          "output_type": "stream",
          "text": [
            "Raj: ₹30000\n",
            "John: ₹40000\n",
            "Alice: ₹55000\n"
          ]
        }
      ],
      "source": [
        "def sort_employees():\n",
        "    employees = ((\"John\", 40000), (\"Alice\", 55000), (\"Raj\", 30000))\n",
        "    sorted_employees = sorted(employees, key=lambda x: x[1])\n",
        "    for emp in sorted_employees:\n",
        "        print(f\"{emp[0]}: ₹{emp[1]}\")\n",
        "\n",
        "sort_employees()\n"
      ]
    },
    {
      "cell_type": "markdown",
      "metadata": {
        "id": "YC28CyKXiTO4"
      },
      "source": [
        "**6) Count how many students scored above 75 marks.**\n",
        "\n",
        "**marks = (67, 88, 92, 74, 76, 55)**"
      ]
    },
    {
      "cell_type": "code",
      "execution_count": 6,
      "metadata": {
        "colab": {
          "base_uri": "https://localhost:8080/"
        },
        "id": "f2IiBlawe9cG",
        "outputId": "ffa4ce7d-32f9-4c20-acd0-676fdb2a72d0"
      },
      "outputs": [
        {
          "name": "stdout",
          "output_type": "stream",
          "text": [
            "Students scoring above 75: 3\n"
          ]
        }
      ],
      "source": [
        "def count_high_scores():\n",
        "    marks = (67, 88, 92, 74, 76, 55)\n",
        "    count = sum(1 for m in marks if m > 75)\n",
        "    print(f\"Students scoring above 75: {count}\")\n",
        "\n",
        "count_high_scores()\n"
      ]
    },
    {
      "cell_type": "markdown",
      "metadata": {
        "id": "cE5FY-uQib8Y"
      },
      "source": [
        "**7) Create a tuple of stock prices and find the max.**\n",
        "\n",
        "**Prices = (154.5, 160.2, 149.8, 170.1)**"
      ]
    },
    {
      "cell_type": "code",
      "execution_count": 7,
      "metadata": {
        "colab": {
          "base_uri": "https://localhost:8080/"
        },
        "id": "y_sy2wrqe-73",
        "outputId": "67acbfe5-4440-4c93-dfab-267b848e446d"
      },
      "outputs": [
        {
          "name": "stdout",
          "output_type": "stream",
          "text": [
            "Stock Prices: (154.5, 160.2, 149.8, 170.1)\n",
            "Maximum Price: 170.1\n"
          ]
        }
      ],
      "source": [
        "def max_stock_price():\n",
        "    prices = (154.5, 160.2, 149.8, 170.1)\n",
        "    print(\"Stock Prices:\", prices)\n",
        "    print(\"Maximum Price:\", max(prices))\n",
        "\n",
        "max_stock_price()\n"
      ]
    },
    {
      "cell_type": "markdown",
      "metadata": {
        "id": "8Lec0Pmuih9S"
      },
      "source": [
        "**8) Log temperature readings during the day. Find the average temperature**\n",
        "\n",
        "**temperatures = (29.5, 30.0, 32.2, 31.5, 28.9)**"
      ]
    },
    {
      "cell_type": "code",
      "execution_count": 8,
      "metadata": {
        "colab": {
          "base_uri": "https://localhost:8080/"
        },
        "id": "LeicjTM5e_Z-",
        "outputId": "4c14af33-365b-4e8b-9992-c990d18755d3"
      },
      "outputs": [
        {
          "name": "stdout",
          "output_type": "stream",
          "text": [
            "Temperature Readings: (29.5, 30.0, 32.2, 31.5, 28.9)\n",
            "Average Temperature: 30.42\n"
          ]
        }
      ],
      "source": [
        "def average_temperature():\n",
        "    temperatures = (29.5, 30.0, 32.2, 31.5, 28.9)\n",
        "    avg = sum(temperatures) / len(temperatures)\n",
        "    print(\"Temperature Readings:\", temperatures)\n",
        "    print(\"Average Temperature:\", round(avg, 2))\n",
        "\n",
        "average_temperature()\n"
      ]
    },
    {
      "cell_type": "markdown",
      "metadata": {
        "id": "_JacxIg0ipYI"
      },
      "source": [
        "**9) Schedule appointments (name, time).**\n",
        "\n",
        "**appointments = (&quot;Doctor&quot;, &quot;10:00 AM&quot;), (&quot;Meeting&quot;, &quot;2:00 PM&quot;)**"
      ]
    },
    {
      "cell_type": "code",
      "execution_count": 9,
      "metadata": {
        "colab": {
          "base_uri": "https://localhost:8080/"
        },
        "id": "t9J_POwee_v9",
        "outputId": "c3f196f8-c806-4d71-91ed-ea4ee9a25078"
      },
      "outputs": [
        {
          "name": "stdout",
          "output_type": "stream",
          "text": [
            "Appointment: Doctor, Time: 10:00 AM\n",
            "Appointment: Meeting, Time: 2:00 PM\n"
          ]
        }
      ],
      "source": [
        "def show_appointments():\n",
        "    appointments = ((\"Doctor\", \"10:00 AM\"), (\"Meeting\", \"2:00 PM\"))\n",
        "    for appt in appointments:\n",
        "        print(f\"Appointment: {appt[0]}, Time: {appt[1]}\")\n",
        "\n",
        "show_appointments()\n"
      ]
    },
    {
      "cell_type": "markdown",
      "metadata": {
        "id": "5gAuowQOite8"
      },
      "source": [
        "**10) Store contact info (name, phone number).**\n",
        "    \n",
        "**contacts = (&quot;Anil&quot;, &quot;9876543210&quot;), (&quot;Priya&quot;, &quot;9123456780&quot;)**"
      ]
    },
    {
      "cell_type": "code",
      "execution_count": 10,
      "metadata": {
        "colab": {
          "base_uri": "https://localhost:8080/"
        },
        "id": "7iI__RvgfAVH",
        "outputId": "283f9335-0185-451c-af6f-2b58108ea9a2"
      },
      "outputs": [
        {
          "name": "stdout",
          "output_type": "stream",
          "text": [
            "Name: Anil, Phone: 9876543210\n",
            "Name: Priya, Phone: 9123456780\n"
          ]
        }
      ],
      "source": [
        "def contact_list():\n",
        "    contacts = ((\"Anil\", \"9876543210\"), (\"Priya\", \"9123456780\"))\n",
        "    for contact in contacts:\n",
        "        print(f\"Name: {contact[0]}, Phone: {contact[1]}\")\n",
        "\n",
        "contact_list()\n"
      ]
    },
    {
      "cell_type": "markdown",
      "metadata": {
        "id": "oy_d95oni1a_"
      },
      "source": [
        "**11) Display exam schedule with subject and time.**\n",
        "\n",
        "**exams = (&quot;Math&quot;, &quot;9:00 AM&quot;), (&quot;Science&quot;, &quot;11:30 AM&quot;), (&quot;English&quot;, &quot;2:00 PM&quot;)**"
      ]
    },
    {
      "cell_type": "code",
      "execution_count": 11,
      "metadata": {
        "colab": {
          "base_uri": "https://localhost:8080/"
        },
        "id": "wtHtbCf6fAw9",
        "outputId": "f1fdf896-92f6-4ee5-f875-6171be7e316d"
      },
      "outputs": [
        {
          "name": "stdout",
          "output_type": "stream",
          "text": [
            "Subject: Math, Time: 9:00 AM\n",
            "Subject: Science, Time: 11:30 AM\n",
            "Subject: English, Time: 2:00 PM\n"
          ]
        }
      ],
      "source": [
        "def exam_schedule():\n",
        "    exams = ((\"Math\", \"9:00 AM\"), (\"Science\", \"11:30 AM\"), (\"English\", \"2:00 PM\"))\n",
        "    for exam in exams:\n",
        "        print(f\"Subject: {exam[0]}, Time: {exam[1]}\")\n",
        "\n",
        "exam_schedule()\n"
      ]
    }
  ],
  "metadata": {
    "colab": {
      "provenance": []
    },
    "kernelspec": {
      "display_name": "Python 3",
      "name": "python3"
    },
    "language_info": {
      "name": "python"
    }
  },
  "nbformat": 4,
  "nbformat_minor": 0
}
